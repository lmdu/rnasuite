{
 "cells": [
  {
   "cell_type": "code",
   "execution_count": 13,
   "id": "5273c231-3a37-4ed3-abe3-81700ebb0eb1",
   "metadata": {},
   "outputs": [
    {
     "ename": "SyntaxError",
     "evalue": "closing parenthesis ']' does not match opening parenthesis '(' (248650405.py, line 11)",
     "output_type": "error",
     "traceback": [
      "\u001b[1;36m  Cell \u001b[1;32mIn[13], line 11\u001b[1;36m\u001b[0m\n\u001b[1;33m    fs = [(i, c[i] for i in c.__dict__ if not i.startswith('_')]\u001b[0m\n\u001b[1;37m                                                               ^\u001b[0m\n\u001b[1;31mSyntaxError\u001b[0m\u001b[1;31m:\u001b[0m closing parenthesis ']' does not match opening parenthesis '('\n"
     ]
    }
   ],
   "source": [
    "class A:\n",
    "    def __setattr__(cls, name, val):\n",
    "        super().__setattr__(name, val)\n",
    "\n",
    "    def __getattr__(cls, name):\n",
    "        return super().__dict__[name]\n",
    "\n",
    "    @classmethod\n",
    "    def _tables(cls):\n",
    "        for c in cls.__subclasses__():\n",
    "            fs = [(i, c[i] for i in c.__dict__ if not i.startswith('_')]\n",
    "            print(fs)\n",
    "\n",
    "class B(A):\n",
    "    a = 1\n",
    "    z = 2\n",
    "    b = 3\n",
    "    f = 4\n",
    "\n",
    "class C(A):\n",
    "    y = 1\n",
    "    h = 2\n",
    "    a = 3\n",
    "\n",
    "A._tables()\n",
    "\n",
    "    "
   ]
  },
  {
   "cell_type": "code",
   "execution_count": null,
   "id": "55b85d1c-c33b-414f-994e-ba4a60aec7f0",
   "metadata": {},
   "outputs": [],
   "source": []
  }
 ],
 "metadata": {
  "kernelspec": {
   "display_name": "Python 3 (ipykernel)",
   "language": "python",
   "name": "python3"
  },
  "language_info": {
   "codemirror_mode": {
    "name": "ipython",
    "version": 3
   },
   "file_extension": ".py",
   "mimetype": "text/x-python",
   "name": "python",
   "nbconvert_exporter": "python",
   "pygments_lexer": "ipython3",
   "version": "3.10.11"
  }
 },
 "nbformat": 4,
 "nbformat_minor": 5
}
